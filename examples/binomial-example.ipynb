{
 "cells": [
  {
   "cell_type": "code",
   "execution_count": 1,
   "metadata": {},
   "outputs": [],
   "source": [
    "import pystan as ps\n",
    "import numpy as np\n",
    "import qutip as qt\n",
    "import matplotlib.pyplot as plt\n",
    "import btom as bt"
   ]
  },
  {
   "cell_type": "code",
   "execution_count": 2,
   "metadata": {},
   "outputs": [],
   "source": [
    "a = bt.BinomialGinibreStateSampler()"
   ]
  },
  {
   "cell_type": "code",
   "execution_count": 3,
   "metadata": {},
   "outputs": [],
   "source": [
    "pz = (qt.identity(1) + qt.sigmaz()).data.toarray() / 2\n",
    "px = (qt.identity(1) + qt.sigmax()).data.toarray() / 2\n",
    "py = (qt.identity(1) + qt.sigmay()).data.toarray() / 2"
   ]
  },
  {
   "cell_type": "code",
   "execution_count": 4,
   "metadata": {},
   "outputs": [
    {
     "name": "stderr",
     "output_type": "stream",
     "text": [
      "/home/ihincks/.miniconda3/lib/python3.6/site-packages/pystan/misc.py:399: FutureWarning: Conversion of the second argument of issubdtype from `float` to `np.floating` is deprecated. In future, it will be treated as `np.float64 == np.dtype(float).type`.\n",
      "  elif np.issubdtype(np.asarray(v).dtype, float):\n"
     ]
    },
    {
     "data": {
      "text/plain": [
       "array([[[ 0.52842649+0.j,  0.06311616+0.j],\n",
       "        [ 0.06311616+0.j,  0.47157351+0.j]],\n",
       "\n",
       "       [[ 0.24493414+0.j,  0.00539475+0.j],\n",
       "        [ 0.00539475+0.j,  0.75506586+0.j]],\n",
       "\n",
       "       [[ 0.16832132+0.j, -0.11785519+0.j],\n",
       "        [-0.11785519+0.j,  0.83167868+0.j]],\n",
       "\n",
       "       ...,\n",
       "\n",
       "       [[ 0.25219811+0.j, -0.0844935 +0.j],\n",
       "        [-0.0844935 +0.j,  0.74780189+0.j]],\n",
       "\n",
       "       [[ 0.34041795+0.j, -0.08001025+0.j],\n",
       "        [-0.08001025+0.j,  0.65958205+0.j]],\n",
       "\n",
       "       [[ 0.31320959+0.j,  0.07760808+0.j],\n",
       "        [ 0.07760808+0.j,  0.68679041+0.j]]])"
      ]
     },
     "execution_count": 4,
     "metadata": {},
     "output_type": "execute_result"
    }
   ],
   "source": [
    "a.sample({\n",
    "    'D': 2,\n",
    "    'm': 3,\n",
    "    'M_real': list(np.real(np.array([px, py, pz]))),\n",
    "    'M_imag': np.imag(np.array([px, py, pz])),\n",
    "    'n': [10,10,10],\n",
    "    'k': [5, 5, 3]\n",
    "})"
   ]
  },
  {
   "cell_type": "code",
   "execution_count": 6,
   "metadata": {},
   "outputs": [],
   "source": [
    "a = bt.utils.StanModelFactory.load_builtin_model('binomial-ginibre.stan')"
   ]
  },
  {
   "cell_type": "code",
   "execution_count": 8,
   "metadata": {},
   "outputs": [],
   "source": [
    "a = {}"
   ]
  },
  {
   "cell_type": "code",
   "execution_count": 9,
   "metadata": {},
   "outputs": [],
   "source": [
    "a.update({'a':4})"
   ]
  },
  {
   "cell_type": "code",
   "execution_count": 11,
   "metadata": {},
   "outputs": [],
   "source": [
    "def test(x):\n",
    "    x.update({'b':6})"
   ]
  },
  {
   "cell_type": "code",
   "execution_count": 13,
   "metadata": {},
   "outputs": [],
   "source": [
    "test(a)"
   ]
  },
  {
   "cell_type": "code",
   "execution_count": 14,
   "metadata": {},
   "outputs": [
    {
     "data": {
      "text/plain": [
       "{'a': 4, 'b': 6}"
      ]
     },
     "execution_count": 14,
     "metadata": {},
     "output_type": "execute_result"
    }
   ],
   "source": [
    "a"
   ]
  },
  {
   "cell_type": "code",
   "execution_count": 7,
   "metadata": {},
   "outputs": [
    {
     "data": {
      "text/plain": [
       "<pystan.model.StanModel at 0x7f478aca1cc0>"
      ]
     },
     "execution_count": 7,
     "metadata": {},
     "output_type": "execute_result"
    }
   ],
   "source": [
    "a.model"
   ]
  },
  {
   "cell_type": "code",
   "execution_count": 9,
   "metadata": {},
   "outputs": [
    {
     "data": {
      "text/plain": [
       "'/home/ihincks/academics/research/projects/btom/btom/stan/binomial-ginibre.pkl'"
      ]
     },
     "execution_count": 9,
     "metadata": {},
     "output_type": "execute_result"
    }
   ],
   "source": [
    "a.storage_filename"
   ]
  },
  {
   "cell_type": "code",
   "execution_count": 5,
   "metadata": {},
   "outputs": [
    {
     "data": {
      "text/plain": [
       "'test-pos.stan'"
      ]
     },
     "execution_count": 5,
     "metadata": {},
     "output_type": "execute_result"
    }
   ],
   "source": [
    "os.path.basename('./btom/stan/test-pos.stan')"
   ]
  },
  {
   "cell_type": "code",
   "execution_count": 6,
   "metadata": {},
   "outputs": [
    {
     "ename": "TypeError",
     "evalue": "Can't instantiate abstract class PoissonGinibreSampler with abstract methods sample",
     "output_type": "error",
     "traceback": [
      "\u001b[0;31m---------------------------------------------------------------------------\u001b[0m",
      "\u001b[0;31mTypeError\u001b[0m                                 Traceback (most recent call last)",
      "\u001b[0;32m<ipython-input-6-94fc9dfe02ab>\u001b[0m in \u001b[0;36m<module>\u001b[0;34m()\u001b[0m\n\u001b[0;32m----> 1\u001b[0;31m \u001b[0mbt\u001b[0m\u001b[0;34m.\u001b[0m\u001b[0mPoissonGinibreSampler\u001b[0m\u001b[0;34m(\u001b[0m\u001b[0;34m)\u001b[0m\u001b[0;34m\u001b[0m\u001b[0m\n\u001b[0m",
      "\u001b[0;31mTypeError\u001b[0m: Can't instantiate abstract class PoissonGinibreSampler with abstract methods sample"
     ]
    }
   ],
   "source": [
    "bt.PoissonGinibreSampler()"
   ]
  },
  {
   "cell_type": "code",
   "execution_count": 2,
   "metadata": {},
   "outputs": [],
   "source": [
    "m = StanModelFactory('./btom/stan/test-pos3.stan').model"
   ]
  },
  {
   "cell_type": "code",
   "execution_count": 8,
   "metadata": {},
   "outputs": [],
   "source": []
  },
  {
   "cell_type": "code",
   "execution_count": 5,
   "metadata": {},
   "outputs": [
    {
     "data": {
      "text/plain": [
       "qutip.qobj.Qobj"
      ]
     },
     "execution_count": 5,
     "metadata": {},
     "output_type": "execute_result"
    }
   ],
   "source": [
    "qt.Qobj"
   ]
  },
  {
   "cell_type": "code",
   "execution_count": 9,
   "metadata": {},
   "outputs": [
    {
     "ename": "AttributeError",
     "evalue": "'memoryview' object has no attribute 'toarray'",
     "output_type": "error",
     "traceback": [
      "\u001b[0;31m---------------------------------------------------------------------------\u001b[0m",
      "\u001b[0;31mAttributeError\u001b[0m                            Traceback (most recent call last)",
      "\u001b[0;32m<ipython-input-9-1856b57df66d>\u001b[0m in \u001b[0;36m<module>\u001b[0;34m()\u001b[0m\n\u001b[0;32m----> 1\u001b[0;31m \u001b[0mpz\u001b[0m\u001b[0;34m.\u001b[0m\u001b[0mdata\u001b[0m\u001b[0;34m.\u001b[0m\u001b[0mtoarray\u001b[0m\u001b[0;34m(\u001b[0m\u001b[0;34m)\u001b[0m\u001b[0;34m\u001b[0m\u001b[0m\n\u001b[0m",
      "\u001b[0;31mAttributeError\u001b[0m: 'memoryview' object has no attribute 'toarray'"
     ]
    }
   ],
   "source": [
    "pz.data.toarray()"
   ]
  },
  {
   "cell_type": "code",
   "execution_count": 11,
   "metadata": {},
   "outputs": [
    {
     "data": {
      "text/plain": [
       "<function dict.__getitem__>"
      ]
     },
     "execution_count": 11,
     "metadata": {},
     "output_type": "execute_result"
    }
   ],
   "source": [
    "data.__getitem__"
   ]
  },
  {
   "cell_type": "code",
   "execution_count": 10,
   "metadata": {},
   "outputs": [],
   "source": [
    "data = {\n",
    "    'D': 2,\n",
    "    'K': 2,\n",
    "    'm': 3,\n",
    "    'M_real': list(np.real(np.array([px, py, pz]))),\n",
    "    'M_imag': np.imag(np.array([px, py, pz])),\n",
    "    'n': [10,10,10],\n",
    "    'k': [5, 5, 3]\n",
    "}"
   ]
  },
  {
   "cell_type": "code",
   "execution_count": 13,
   "metadata": {},
   "outputs": [
    {
     "ename": "NameError",
     "evalue": "name 'f' is not defined",
     "output_type": "error",
     "traceback": [
      "\u001b[0;31m---------------------------------------------------------------------------\u001b[0m",
      "\u001b[0;31mNameError\u001b[0m                                 Traceback (most recent call last)",
      "\u001b[0;32m<ipython-input-13-a9fcd54b25e7>\u001b[0m in \u001b[0;36m<module>\u001b[0;34m()\u001b[0m\n\u001b[0;32m----> 1\u001b[0;31m \u001b[0mf\u001b[0m\u001b[0;34m\u001b[0m\u001b[0m\n\u001b[0m",
      "\u001b[0;31mNameError\u001b[0m: name 'f' is not defined"
     ]
    }
   ],
   "source": [
    "f"
   ]
  },
  {
   "cell_type": "code",
   "execution_count": 14,
   "metadata": {},
   "outputs": [],
   "source": [
    "class TomographyPosterior(object):\n",
    "    def __init__(self, n, k, meas_ops):\n",
    "        self.model = StanModelFactory('./btom/stan/test-pos3.stan').model\n",
    "        self.n = n\n",
    "        self.k = k\n",
    "        self.meas_ops = meas_ops\n",
    "        self._fit = None\n",
    "        \n",
    "    @property\n",
    "    def dim(self):\n",
    "        return self.meas_ops[0].shape[0]\n",
    "    \n",
    "    @property\n",
    "    def n_meas_ops(self):\n",
    "        return len(self.meas_ops)\n",
    "        \n",
    "    def stan_data(self, ginibre_k):\n",
    "        return {\n",
    "            'D': self.dim,\n",
    "            'K': ginibre_k,\n",
    "            'm': self.n_meas_ops,\n",
    "            'M_real': np.real(self.meas_ops),\n",
    "            'M_imag': np.imag(self.meas_ops),\n",
    "            'n': self.n,\n",
    "            'k': self.k\n",
    "        }\n",
    "    \n",
    "    def sample(self, ginibre_k, n_chains=3, n_samples=1000):\n",
    "        data = self.stan_data(ginibre_k)\n",
    "        self._fit = self.model.sampling(data, iter=n_samples, chains=n_chains)\n",
    "        \n",
    "    @property\n",
    "    def total_samples(self):\n",
    "        if self._fit is None:\n",
    "            raise ValueError('No fit has been produced yet; call sample().')\n",
    "        return self._fit['X_real'].shape[0]\n",
    "        \n",
    "    @property\n",
    "    def states(self):\n",
    "        if self._fit is None:\n",
    "            raise ValueError('No fit has been produced yet; call sample().')\n",
    "        \n",
    "        x = self._fit['X_real']\n",
    "        y = self._fit['X_imag']\n",
    "        t = lambda z: z.transpose(0,2,1)\n",
    "        \n",
    "        rho_real = np.matmul(x, t(x)) + np.matmul(y, t(y))\n",
    "        rho_imag = np.matmul(x, t(y)) - np.matmul(y, t(x))\n",
    "        tr = np.sum(rho_real[(np.s_[:],) + np.diag_indices(self.dim)], axis=-1)\n",
    "        return (rho_real + 1j * rho_imag) / tr[:,np.newaxis,np.newaxis]\n",
    "    \n",
    "    @property\n",
    "    def blah(self):\n",
    "        out = np.empty((3, self.total_samples))\n",
    "        for idx, op in enumerate([qt.sigmax(), qt.sigmay(), qt.sigmaz()]):\n",
    "            out[idx,:] = np.real(np.dot(self.states.reshape(-1,4), op.full().flatten()))\n",
    "        return out"
   ]
  },
  {
   "cell_type": "code",
   "execution_count": 20,
   "metadata": {},
   "outputs": [
    {
     "data": {
      "text/plain": [
       "1"
      ]
     },
     "execution_count": 20,
     "metadata": {},
     "output_type": "execute_result"
    }
   ],
   "source": [
    "np.array(1).size"
   ]
  },
  {
   "cell_type": "code",
   "execution_count": 16,
   "metadata": {},
   "outputs": [
    {
     "name": "stderr",
     "output_type": "stream",
     "text": [
      "/home/ihincks/.miniconda3/lib/python3.6/site-packages/pystan/misc.py:399: FutureWarning: Conversion of the second argument of issubdtype from `float` to `np.floating` is deprecated. In future, it will be treated as `np.float64 == np.dtype(float).type`.\n",
      "  elif np.issubdtype(np.asarray(v).dtype, float):\n"
     ]
    }
   ],
   "source": [
    "tp = TomographyPosterior([50,50,1000], [50,25,500], np.array([px, py, pz]))\n",
    "tp.sample(2)"
   ]
  },
  {
   "cell_type": "code",
   "execution_count": 18,
   "metadata": {},
   "outputs": [
    {
     "data": {
      "text/plain": [
       "OrderedDict([('X_real', array([[[-0.10495178, -1.9863508 ],\n",
       "                      [-0.77000922, -1.93390586]],\n",
       "              \n",
       "                     [[-0.56992176, -1.91296974],\n",
       "                      [ 0.33766549, -2.29718445]],\n",
       "              \n",
       "                     [[ 1.10938914, -0.47997383],\n",
       "                      [ 0.96177279, -0.74489731]],\n",
       "              \n",
       "                     ...,\n",
       "              \n",
       "                     [[ 0.21656092,  1.03972281],\n",
       "                      [ 0.45147715,  0.93045252]],\n",
       "              \n",
       "                     [[ 0.10387148,  0.7628459 ],\n",
       "                      [-0.17651058,  0.43026965]],\n",
       "              \n",
       "                     [[-1.55229292, -1.65946346],\n",
       "                      [-1.21074258, -2.0536623 ]]])),\n",
       "             ('X_imag', array([[[-1.58391782, -0.13160716],\n",
       "                      [-1.43383491, -0.16278009]],\n",
       "              \n",
       "                     [[ 1.71607153, -0.76602407],\n",
       "                      [ 0.75347261, -1.03734449]],\n",
       "              \n",
       "                     [[-0.48910506, -0.0514696 ],\n",
       "                      [-0.51175729, -0.21291024]],\n",
       "              \n",
       "                     ...,\n",
       "              \n",
       "                     [[-0.10103086,  0.63994335],\n",
       "                      [-0.49082819,  0.52652242]],\n",
       "              \n",
       "                     [[-1.1959108 ,  0.51719584],\n",
       "                      [-1.2020827 ,  0.76359422]],\n",
       "              \n",
       "                     [[-0.7239104 ,  0.50051113],\n",
       "                      [-0.02684274,  0.57120082]]])),\n",
       "             ('lp__',\n",
       "              array([-735.7925964 , -739.42648   , -730.70578463, ..., -731.45865978,\n",
       "                     -731.52372561, -735.82178864]))])"
      ]
     },
     "execution_count": 18,
     "metadata": {},
     "output_type": "execute_result"
    }
   ],
   "source": [
    "tp._fit.extract()"
   ]
  },
  {
   "cell_type": "code",
   "execution_count": 17,
   "metadata": {},
   "outputs": [
    {
     "data": {
      "image/png": "[encoded data removed]",
      "text/plain": [
       "<Figure size 360x360 with 1 Axes>"
      ]
     },
     "metadata": {},
     "output_type": "display_data"
    }
   ],
   "source": [
    "b = qt.Bloch()\n",
    "b.add_points(tp.blah)\n",
    "b.show()"
   ]
  },
  {
   "cell_type": "code",
   "execution_count": 62,
   "metadata": {},
   "outputs": [
    {
     "name": "stderr",
     "output_type": "stream",
     "text": [
      "/home/ihincks/.miniconda3/lib/python3.6/site-packages/pystan/misc.py:399: FutureWarning: Conversion of the second argument of issubdtype from `float` to `np.floating` is deprecated. In future, it will be treated as `np.float64 == np.dtype(float).type`.\n",
      "  elif np.issubdtype(np.asarray(v).dtype, float):\n"
     ]
    }
   ],
   "source": [
    "tp.sample(2)"
   ]
  },
  {
   "cell_type": "code",
   "execution_count": 56,
   "metadata": {},
   "outputs": [
    {
     "data": {
      "text/plain": [
       "(array([  2.,   1.,   9.,  22.,  54.,  94., 200., 343., 451., 324.]),\n",
       " array([0.48316608, 0.53473413, 0.58630218, 0.63787023, 0.68943828,\n",
       "        0.74100633, 0.79257438, 0.84414243, 0.89571048, 0.94727853,\n",
       "        0.99884658]),\n",
       " <a list of 10 Patch objects>)"
      ]
     },
     "execution_count": 56,
     "metadata": {},
     "output_type": "execute_result"
    },
    {
     "data": {
      "image/png": "[encoded data removed]",
      "text/plain": [
       "<Figure size 432x288 with 1 Axes>"
      ]
     },
     "metadata": {},
     "output_type": "display_data"
    }
   ],
   "source": [
    "plt.hist(np.real(np.dot(tp.states.reshape(-1,4), qt.sigmaz().data.toarray().flatten())))"
   ]
  },
  {
   "cell_type": "code",
   "execution_count": 75,
   "metadata": {},
   "outputs": [
    {
     "data": {
      "text/plain": [
       "(0.9999999999999998+7.51112678311022e-33j)"
      ]
     },
     "execution_count": 75,
     "metadata": {},
     "output_type": "execute_result"
    }
   ],
   "source": [
    "np.sum(np.linalg.eig(rho[5,...])[0])"
   ]
  },
  {
   "cell_type": "code",
   "execution_count": 5,
   "metadata": {},
   "outputs": [
    {
     "data": {
      "text/plain": [
       "1.0000000000000002"
      ]
     },
     "execution_count": 5,
     "metadata": {},
     "output_type": "execute_result"
    }
   ],
   "source": [
    "np.sum(f['L_real'][5,:]**2 + f['L_imag'][5,:]**2)"
   ]
  },
  {
   "cell_type": "code",
   "execution_count": 67,
   "metadata": {},
   "outputs": [],
   "source": [
    "A = f[('rho_real')][5,...]\n",
    "B = f[('rho_imag')][5,...]\n",
    "Asq = mpow(A, -1/2)"
   ]
  },
  {
   "cell_type": "code",
   "execution_count": 69,
   "metadata": {},
   "outputs": [
    {
     "data": {
      "text/plain": [
       "1.0000000000000002"
      ]
     },
     "execution_count": 69,
     "metadata": {},
     "output_type": "execute_result"
    }
   ],
   "source": [
    "np.trace(A)"
   ]
  },
  {
   "cell_type": "code",
   "execution_count": 63,
   "metadata": {},
   "outputs": [
    {
     "data": {
      "text/plain": [
       "-88.34932346130041"
      ]
     },
     "execution_count": 63,
     "metadata": {},
     "output_type": "execute_result"
    }
   ],
   "source": [
    "np.linalg.slogdet(A+1j*B)[1]"
   ]
  },
  {
   "cell_type": "code",
   "execution_count": 66,
   "metadata": {},
   "outputs": [
    {
     "data": {
      "text/plain": [
       "-88.3493234604548"
      ]
     },
     "execution_count": 66,
     "metadata": {},
     "output_type": "execute_result"
    }
   ],
   "source": [
    "np.linalg.slogdet(A)[1] + np.sum(np.log(\n",
    "    np.sqrt(1 - np.linalg.svd(np.dot(Asq, np.dot(B, Asq)))[1]**2)\n",
    "))"
   ]
  },
  {
   "cell_type": "code",
   "execution_count": 64,
   "metadata": {},
   "outputs": [
    {
     "data": {
      "text/plain": [
       "array([0.99998899, 0.99998899, 0.99674496, 0.99674496, 0.95974601,\n",
       "       0.95974601, 0.83532131, 0.83532131, 0.73120647, 0.73120647,\n",
       "       0.6208288 , 0.6208288 , 0.38464414, 0.38464414, 0.08830717,\n",
       "       0.08830717])"
      ]
     },
     "execution_count": 64,
     "metadata": {},
     "output_type": "execute_result"
    }
   ],
   "source": [
    "np.linalg.svd(np.dot(Asq, np.dot(B, Asq)))[1]"
   ]
  },
  {
   "cell_type": "code",
   "execution_count": 60,
   "metadata": {},
   "outputs": [
    {
     "data": {
      "text/plain": [
       "array([41.38603026, 26.33953694, 20.05655553, 14.21577328, 13.37728693,\n",
       "        1.23785545, 10.83863184,  9.17930767,  3.28504186,  3.99960816,\n",
       "        4.74876357,  5.81399932,  7.58213017,  6.45807816,  7.19901886,\n",
       "        6.71464777])"
      ]
     },
     "execution_count": 60,
     "metadata": {},
     "output_type": "execute_result"
    }
   ],
   "source": [
    "np.linalg.eig(Asq)[0]"
   ]
  },
  {
   "cell_type": "code",
   "execution_count": 18,
   "metadata": {},
   "outputs": [
    {
     "data": {
      "text/plain": [
       "0.6657837546979709"
      ]
     },
     "execution_count": 18,
     "metadata": {},
     "output_type": "execute_result"
    }
   ],
   "source": [
    "np.linalg.norm(A)"
   ]
  },
  {
   "cell_type": "code",
   "execution_count": 11,
   "metadata": {},
   "outputs": [
    {
     "data": {
      "text/plain": [
       "6.799806246723813e-17"
      ]
     },
     "execution_count": 11,
     "metadata": {},
     "output_type": "execute_result"
    }
   ],
   "source": [
    "np.linalg.norm(A - np.dot(Asq, Asq.T))"
   ]
  },
  {
   "cell_type": "code",
   "execution_count": 25,
   "metadata": {},
   "outputs": [],
   "source": [
    "A = np.random.randn(25) + 1j * np.random.randn(25)\n",
    "A = A.reshape(5,5)\n",
    "B = np.dot(A, A.conj().T)"
   ]
  },
  {
   "cell_type": "code",
   "execution_count": 31,
   "metadata": {},
   "outputs": [
    {
     "data": {
      "text/plain": [
       "(array([ 4.44089210e-16+14.08232144j,  4.44089210e-16-14.08232144j,\n",
       "        -1.11022302e-16 +3.45967237j, -1.11022302e-16 -3.45967237j,\n",
       "        -2.86942026e-17 +0.j        ]),\n",
       " array([[ 0.02396943+0.37482565j,  0.02396943-0.37482565j,\n",
       "         -0.04366363-0.59696879j, -0.04366363+0.59696879j,\n",
       "         -0.03613709+0.j        ],\n",
       "        [ 0.67591234+0.j        ,  0.67591234-0.j        ,\n",
       "         -0.17708895+0.03570421j, -0.17708895-0.03570421j,\n",
       "          0.14496359+0.j        ],\n",
       "        [-0.09479249+0.53712987j, -0.09479249-0.53712987j,\n",
       "         -0.1383021 +0.33198547j, -0.1383021 -0.33198547j,\n",
       "          0.3825286 +0.j        ],\n",
       "        [ 0.12074161+0.25346643j,  0.12074161-0.25346643j,\n",
       "          0.14598496+0.17927385j,  0.14598496-0.17927385j,\n",
       "         -0.85758441+0.j        ],\n",
       "        [ 0.13785435+0.08217058j,  0.13785435-0.08217058j,\n",
       "          0.65291187+0.j        ,  0.65291187-0.j        ,\n",
       "          0.3096781 +0.j        ]]))"
      ]
     },
     "execution_count": 31,
     "metadata": {},
     "output_type": "execute_result"
    }
   ],
   "source": [
    "np.linalg.eig(np.imag(B))"
   ]
  },
  {
   "cell_type": "code",
   "execution_count": 33,
   "metadata": {},
   "outputs": [
    {
     "data": {
      "text/plain": [
       "array([31.49339983, 26.95247654,  0.1758025 ,  5.85239547,  3.02632204])"
      ]
     },
     "execution_count": 33,
     "metadata": {},
     "output_type": "execute_result"
    }
   ],
   "source": [
    "np.real(np.linalg.eigvals(B))"
   ]
  },
  {
   "cell_type": "code",
   "execution_count": 34,
   "metadata": {},
   "outputs": [
    {
     "data": {
      "text/plain": [
       "array([26.90007167, 20.36858942, 13.20333039,  2.16742724,  4.86097766])"
      ]
     },
     "execution_count": 34,
     "metadata": {},
     "output_type": "execute_result"
    }
   ],
   "source": [
    "np.real(np.linalg.eigvals(np.real(B)))"
   ]
  },
  {
   "cell_type": "code",
   "execution_count": null,
   "metadata": {},
   "outputs": [],
   "source": []
  }
 ],
 "metadata": {
  "kernelspec": {
   "display_name": "Python [conda root]",
   "language": "python",
   "name": "conda-root-py"
  },
  "language_info": {
   "codemirror_mode": {
    "name": "ipython",
    "version": 3
   },
   "file_extension": ".py",
   "mimetype": "text/x-python",
   "name": "python",
   "nbconvert_exporter": "python",
   "pygments_lexer": "ipython3",
   "version": "3.6.4"
  }
 },
 "nbformat": 4,
 "nbformat_minor": 2
}
